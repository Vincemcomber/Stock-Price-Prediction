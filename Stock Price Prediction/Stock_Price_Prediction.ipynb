{
 "cells": [
  {
   "cell_type": "markdown",
   "metadata": {
    "colab": {
     "base_uri": "https://localhost:8080/"
    },
    "id": "3RNGyRx-Z97C",
    "outputId": "de79185b-9d98-4fda-ad27-72f800578bb1"
   },
   "source": [
    "# Stock Price Prediction"
   ]
  },
  {
   "cell_type": "markdown",
   "metadata": {
    "id": "yN8N3DWHwVpf"
   },
   "source": [
    "# Importing Necessary Libraries"
   ]
  },
  {
   "cell_type": "code",
   "execution_count": 34,
   "metadata": {
    "id": "DIhIsJNcbzyp"
   },
   "outputs": [],
   "source": [
    "import numpy as np\n",
    "import pandas as pd\n",
    "import matplotlib.pyplot as plt\n",
    "from keras.models import Sequential\n",
    "from keras.layers import Dense,LSTM,Bidirectional,Input,Dropout"
   ]
  },
  {
   "cell_type": "markdown",
   "metadata": {
    "id": "7r2M6EwCwckk"
   },
   "source": [
    "# Reading the Dataset"
   ]
  },
  {
   "cell_type": "code",
   "execution_count": 35,
   "metadata": {
    "id": "LD3oGLgYdlc6"
   },
   "outputs": [],
   "source": [
    "# Load the dataset.\n",
    "data=pd.read_csv('google_dataset.csv')"
   ]
  },
  {
   "cell_type": "code",
   "execution_count": 36,
   "metadata": {
    "colab": {
     "base_uri": "https://localhost:8080/",
     "height": 195
    },
    "id": "FcA2lTdadrqw",
    "outputId": "7dac10f7-2564-41c7-8c32-a1adda31f09d"
   },
   "outputs": [
    {
     "data": {
      "text/html": [
       "<div>\n",
       "<style scoped>\n",
       "    .dataframe tbody tr th:only-of-type {\n",
       "        vertical-align: middle;\n",
       "    }\n",
       "\n",
       "    .dataframe tbody tr th {\n",
       "        vertical-align: top;\n",
       "    }\n",
       "\n",
       "    .dataframe thead th {\n",
       "        text-align: right;\n",
       "    }\n",
       "</style>\n",
       "<table border=\"1\" class=\"dataframe\">\n",
       "  <thead>\n",
       "    <tr style=\"text-align: right;\">\n",
       "      <th></th>\n",
       "      <th></th>\n",
       "      <th>close</th>\n",
       "      <th>high</th>\n",
       "      <th>low</th>\n",
       "      <th>open</th>\n",
       "      <th>volume</th>\n",
       "      <th>adjClose</th>\n",
       "      <th>adjHigh</th>\n",
       "      <th>adjLow</th>\n",
       "      <th>adjOpen</th>\n",
       "      <th>adjVolume</th>\n",
       "      <th>divCash</th>\n",
       "      <th>splitFactor</th>\n",
       "    </tr>\n",
       "  </thead>\n",
       "  <tbody>\n",
       "    <tr>\n",
       "      <th rowspan=\"5\" valign=\"top\">GOOG</th>\n",
       "      <th>2016-01-11 00:00:00+00:00</th>\n",
       "      <td>716.03</td>\n",
       "      <td>718.855</td>\n",
       "      <td>703.5400</td>\n",
       "      <td>716.61</td>\n",
       "      <td>2090621</td>\n",
       "      <td>716.03</td>\n",
       "      <td>718.855</td>\n",
       "      <td>703.5400</td>\n",
       "      <td>716.61</td>\n",
       "      <td>2090621</td>\n",
       "      <td>0.0</td>\n",
       "      <td>1.0</td>\n",
       "    </tr>\n",
       "    <tr>\n",
       "      <th>2016-01-12 00:00:00+00:00</th>\n",
       "      <td>726.07</td>\n",
       "      <td>728.750</td>\n",
       "      <td>717.3165</td>\n",
       "      <td>721.68</td>\n",
       "      <td>2024509</td>\n",
       "      <td>726.07</td>\n",
       "      <td>728.750</td>\n",
       "      <td>717.3165</td>\n",
       "      <td>721.68</td>\n",
       "      <td>2024509</td>\n",
       "      <td>0.0</td>\n",
       "      <td>1.0</td>\n",
       "    </tr>\n",
       "    <tr>\n",
       "      <th>2016-01-13 00:00:00+00:00</th>\n",
       "      <td>700.56</td>\n",
       "      <td>734.740</td>\n",
       "      <td>698.6100</td>\n",
       "      <td>730.85</td>\n",
       "      <td>2501730</td>\n",
       "      <td>700.56</td>\n",
       "      <td>734.740</td>\n",
       "      <td>698.6100</td>\n",
       "      <td>730.85</td>\n",
       "      <td>2501730</td>\n",
       "      <td>0.0</td>\n",
       "      <td>1.0</td>\n",
       "    </tr>\n",
       "    <tr>\n",
       "      <th>2016-01-14 00:00:00+00:00</th>\n",
       "      <td>714.72</td>\n",
       "      <td>721.925</td>\n",
       "      <td>689.1000</td>\n",
       "      <td>705.38</td>\n",
       "      <td>2225768</td>\n",
       "      <td>714.72</td>\n",
       "      <td>721.925</td>\n",
       "      <td>689.1000</td>\n",
       "      <td>705.38</td>\n",
       "      <td>2225768</td>\n",
       "      <td>0.0</td>\n",
       "      <td>1.0</td>\n",
       "    </tr>\n",
       "    <tr>\n",
       "      <th>2016-01-15 00:00:00+00:00</th>\n",
       "      <td>694.45</td>\n",
       "      <td>706.740</td>\n",
       "      <td>685.3700</td>\n",
       "      <td>692.29</td>\n",
       "      <td>3608109</td>\n",
       "      <td>694.45</td>\n",
       "      <td>706.740</td>\n",
       "      <td>685.3700</td>\n",
       "      <td>692.29</td>\n",
       "      <td>3608109</td>\n",
       "      <td>0.0</td>\n",
       "      <td>1.0</td>\n",
       "    </tr>\n",
       "  </tbody>\n",
       "</table>\n",
       "</div>"
      ],
      "text/plain": [
       "                                 close     high       low    open   volume  \\\n",
       "GOOG 2016-01-11 00:00:00+00:00  716.03  718.855  703.5400  716.61  2090621   \n",
       "     2016-01-12 00:00:00+00:00  726.07  728.750  717.3165  721.68  2024509   \n",
       "     2016-01-13 00:00:00+00:00  700.56  734.740  698.6100  730.85  2501730   \n",
       "     2016-01-14 00:00:00+00:00  714.72  721.925  689.1000  705.38  2225768   \n",
       "     2016-01-15 00:00:00+00:00  694.45  706.740  685.3700  692.29  3608109   \n",
       "\n",
       "                                adjClose  adjHigh    adjLow  adjOpen  \\\n",
       "GOOG 2016-01-11 00:00:00+00:00    716.03  718.855  703.5400   716.61   \n",
       "     2016-01-12 00:00:00+00:00    726.07  728.750  717.3165   721.68   \n",
       "     2016-01-13 00:00:00+00:00    700.56  734.740  698.6100   730.85   \n",
       "     2016-01-14 00:00:00+00:00    714.72  721.925  689.1000   705.38   \n",
       "     2016-01-15 00:00:00+00:00    694.45  706.740  685.3700   692.29   \n",
       "\n",
       "                                adjVolume  divCash  splitFactor  \n",
       "GOOG 2016-01-11 00:00:00+00:00    2090621      0.0          1.0  \n",
       "     2016-01-12 00:00:00+00:00    2024509      0.0          1.0  \n",
       "     2016-01-13 00:00:00+00:00    2501730      0.0          1.0  \n",
       "     2016-01-14 00:00:00+00:00    2225768      0.0          1.0  \n",
       "     2016-01-15 00:00:00+00:00    3608109      0.0          1.0  "
      ]
     },
     "execution_count": 36,
     "metadata": {},
     "output_type": "execute_result"
    }
   ],
   "source": [
    "# Get the first five rows of the dataset.\n",
    "data.head()"
   ]
  },
  {
   "cell_type": "code",
   "execution_count": 37,
   "metadata": {},
   "outputs": [
    {
     "data": {
      "text/html": [
       "<div>\n",
       "<style scoped>\n",
       "    .dataframe tbody tr th:only-of-type {\n",
       "        vertical-align: middle;\n",
       "    }\n",
       "\n",
       "    .dataframe tbody tr th {\n",
       "        vertical-align: top;\n",
       "    }\n",
       "\n",
       "    .dataframe thead th {\n",
       "        text-align: right;\n",
       "    }\n",
       "</style>\n",
       "<table border=\"1\" class=\"dataframe\">\n",
       "  <thead>\n",
       "    <tr style=\"text-align: right;\">\n",
       "      <th></th>\n",
       "      <th></th>\n",
       "      <th>close</th>\n",
       "      <th>high</th>\n",
       "      <th>low</th>\n",
       "      <th>open</th>\n",
       "      <th>volume</th>\n",
       "      <th>adjClose</th>\n",
       "      <th>adjHigh</th>\n",
       "      <th>adjLow</th>\n",
       "      <th>adjOpen</th>\n",
       "      <th>adjVolume</th>\n",
       "      <th>divCash</th>\n",
       "      <th>splitFactor</th>\n",
       "    </tr>\n",
       "  </thead>\n",
       "  <tbody>\n",
       "    <tr>\n",
       "      <th rowspan=\"5\" valign=\"top\">GOOG</th>\n",
       "      <th>2020-12-30 00:00:00+00:00</th>\n",
       "      <td>1739.52</td>\n",
       "      <td>1765.095</td>\n",
       "      <td>1725.600</td>\n",
       "      <td>1762.01</td>\n",
       "      <td>1306130</td>\n",
       "      <td>1739.52</td>\n",
       "      <td>1765.095</td>\n",
       "      <td>1725.600</td>\n",
       "      <td>1762.01</td>\n",
       "      <td>1306130</td>\n",
       "      <td>0.0</td>\n",
       "      <td>1.0</td>\n",
       "    </tr>\n",
       "    <tr>\n",
       "      <th>2020-12-31 00:00:00+00:00</th>\n",
       "      <td>1751.88</td>\n",
       "      <td>1758.930</td>\n",
       "      <td>1735.420</td>\n",
       "      <td>1735.42</td>\n",
       "      <td>1012240</td>\n",
       "      <td>1751.88</td>\n",
       "      <td>1758.930</td>\n",
       "      <td>1735.420</td>\n",
       "      <td>1735.42</td>\n",
       "      <td>1012240</td>\n",
       "      <td>0.0</td>\n",
       "      <td>1.0</td>\n",
       "    </tr>\n",
       "    <tr>\n",
       "      <th>2021-01-04 00:00:00+00:00</th>\n",
       "      <td>1728.24</td>\n",
       "      <td>1760.650</td>\n",
       "      <td>1707.850</td>\n",
       "      <td>1757.54</td>\n",
       "      <td>1901855</td>\n",
       "      <td>1728.24</td>\n",
       "      <td>1760.650</td>\n",
       "      <td>1707.850</td>\n",
       "      <td>1757.54</td>\n",
       "      <td>1901855</td>\n",
       "      <td>0.0</td>\n",
       "      <td>1.0</td>\n",
       "    </tr>\n",
       "    <tr>\n",
       "      <th>2021-01-05 00:00:00+00:00</th>\n",
       "      <td>1740.92</td>\n",
       "      <td>1747.670</td>\n",
       "      <td>1718.015</td>\n",
       "      <td>1725.00</td>\n",
       "      <td>1145347</td>\n",
       "      <td>1740.92</td>\n",
       "      <td>1747.670</td>\n",
       "      <td>1718.015</td>\n",
       "      <td>1725.00</td>\n",
       "      <td>1145347</td>\n",
       "      <td>0.0</td>\n",
       "      <td>1.0</td>\n",
       "    </tr>\n",
       "    <tr>\n",
       "      <th>2021-01-06 00:00:00+00:00</th>\n",
       "      <td>1735.29</td>\n",
       "      <td>1748.000</td>\n",
       "      <td>1699.000</td>\n",
       "      <td>1702.63</td>\n",
       "      <td>2602114</td>\n",
       "      <td>1735.29</td>\n",
       "      <td>1748.000</td>\n",
       "      <td>1699.000</td>\n",
       "      <td>1702.63</td>\n",
       "      <td>2602114</td>\n",
       "      <td>0.0</td>\n",
       "      <td>1.0</td>\n",
       "    </tr>\n",
       "  </tbody>\n",
       "</table>\n",
       "</div>"
      ],
      "text/plain": [
       "                                  close      high       low     open   volume  \\\n",
       "GOOG 2020-12-30 00:00:00+00:00  1739.52  1765.095  1725.600  1762.01  1306130   \n",
       "     2020-12-31 00:00:00+00:00  1751.88  1758.930  1735.420  1735.42  1012240   \n",
       "     2021-01-04 00:00:00+00:00  1728.24  1760.650  1707.850  1757.54  1901855   \n",
       "     2021-01-05 00:00:00+00:00  1740.92  1747.670  1718.015  1725.00  1145347   \n",
       "     2021-01-06 00:00:00+00:00  1735.29  1748.000  1699.000  1702.63  2602114   \n",
       "\n",
       "                                adjClose   adjHigh    adjLow  adjOpen  \\\n",
       "GOOG 2020-12-30 00:00:00+00:00   1739.52  1765.095  1725.600  1762.01   \n",
       "     2020-12-31 00:00:00+00:00   1751.88  1758.930  1735.420  1735.42   \n",
       "     2021-01-04 00:00:00+00:00   1728.24  1760.650  1707.850  1757.54   \n",
       "     2021-01-05 00:00:00+00:00   1740.92  1747.670  1718.015  1725.00   \n",
       "     2021-01-06 00:00:00+00:00   1735.29  1748.000  1699.000  1702.63   \n",
       "\n",
       "                                adjVolume  divCash  splitFactor  \n",
       "GOOG 2020-12-30 00:00:00+00:00    1306130      0.0          1.0  \n",
       "     2020-12-31 00:00:00+00:00    1012240      0.0          1.0  \n",
       "     2021-01-04 00:00:00+00:00    1901855      0.0          1.0  \n",
       "     2021-01-05 00:00:00+00:00    1145347      0.0          1.0  \n",
       "     2021-01-06 00:00:00+00:00    2602114      0.0          1.0  "
      ]
     },
     "execution_count": 37,
     "metadata": {},
     "output_type": "execute_result"
    }
   ],
   "source": [
    "# Get the last five rows of the dataset.\n",
    "data.tail()"
   ]
  },
  {
   "cell_type": "markdown",
   "metadata": {},
   "source": [
    "# Descriptive Statistics"
   ]
  },
  {
   "cell_type": "code",
   "execution_count": 38,
   "metadata": {},
   "outputs": [
    {
     "name": "stdout",
     "output_type": "stream",
     "text": [
      "Database dimension     : (1257, 12)\n",
      "Database size          : 15084\n",
      "<class 'pandas.core.frame.DataFrame'>\n",
      "MultiIndex: 1257 entries, ('GOOG', '2016-01-11 00:00:00+00:00') to ('GOOG', '2021-01-06 00:00:00+00:00')\n",
      "Data columns (total 12 columns):\n",
      " #   Column       Non-Null Count  Dtype  \n",
      "---  ------       --------------  -----  \n",
      " 0   close        1257 non-null   float64\n",
      " 1   high         1257 non-null   float64\n",
      " 2   low          1257 non-null   float64\n",
      " 3   open         1257 non-null   float64\n",
      " 4   volume       1257 non-null   int64  \n",
      " 5   adjClose     1257 non-null   float64\n",
      " 6   adjHigh      1257 non-null   float64\n",
      " 7   adjLow       1257 non-null   float64\n",
      " 8   adjOpen      1257 non-null   float64\n",
      " 9   adjVolume    1257 non-null   int64  \n",
      " 10  divCash      1257 non-null   float64\n",
      " 11  splitFactor  1257 non-null   float64\n",
      "dtypes: float64(10), int64(2)\n",
      "memory usage: 163.8+ KB\n"
     ]
    },
    {
     "data": {
      "text/html": [
       "<div>\n",
       "<style scoped>\n",
       "    .dataframe tbody tr th:only-of-type {\n",
       "        vertical-align: middle;\n",
       "    }\n",
       "\n",
       "    .dataframe tbody tr th {\n",
       "        vertical-align: top;\n",
       "    }\n",
       "\n",
       "    .dataframe thead th {\n",
       "        text-align: right;\n",
       "    }\n",
       "</style>\n",
       "<table border=\"1\" class=\"dataframe\">\n",
       "  <thead>\n",
       "    <tr style=\"text-align: right;\">\n",
       "      <th></th>\n",
       "      <th>close</th>\n",
       "      <th>high</th>\n",
       "      <th>low</th>\n",
       "      <th>open</th>\n",
       "      <th>volume</th>\n",
       "      <th>adjClose</th>\n",
       "      <th>adjHigh</th>\n",
       "      <th>adjLow</th>\n",
       "      <th>adjOpen</th>\n",
       "      <th>adjVolume</th>\n",
       "      <th>divCash</th>\n",
       "      <th>splitFactor</th>\n",
       "    </tr>\n",
       "  </thead>\n",
       "  <tbody>\n",
       "    <tr>\n",
       "      <th>count</th>\n",
       "      <td>1257.000000</td>\n",
       "      <td>1257.000000</td>\n",
       "      <td>1257.000000</td>\n",
       "      <td>1257.000000</td>\n",
       "      <td>1.257000e+03</td>\n",
       "      <td>1257.000000</td>\n",
       "      <td>1257.000000</td>\n",
       "      <td>1257.000000</td>\n",
       "      <td>1257.000000</td>\n",
       "      <td>1.257000e+03</td>\n",
       "      <td>1257.0</td>\n",
       "      <td>1257.0</td>\n",
       "    </tr>\n",
       "    <tr>\n",
       "      <th>mean</th>\n",
       "      <td>1093.039387</td>\n",
       "      <td>1103.023356</td>\n",
       "      <td>1082.226892</td>\n",
       "      <td>1092.351952</td>\n",
       "      <td>1.659480e+06</td>\n",
       "      <td>1093.039387</td>\n",
       "      <td>1103.023358</td>\n",
       "      <td>1082.226898</td>\n",
       "      <td>1092.351952</td>\n",
       "      <td>1.659480e+06</td>\n",
       "      <td>0.0</td>\n",
       "      <td>1.0</td>\n",
       "    </tr>\n",
       "    <tr>\n",
       "      <th>std</th>\n",
       "      <td>270.201135</td>\n",
       "      <td>273.823642</td>\n",
       "      <td>266.419694</td>\n",
       "      <td>269.676372</td>\n",
       "      <td>7.615813e+05</td>\n",
       "      <td>270.201135</td>\n",
       "      <td>273.823645</td>\n",
       "      <td>266.419704</td>\n",
       "      <td>269.676372</td>\n",
       "      <td>7.615813e+05</td>\n",
       "      <td>0.0</td>\n",
       "      <td>0.0</td>\n",
       "    </tr>\n",
       "    <tr>\n",
       "      <th>min</th>\n",
       "      <td>668.260000</td>\n",
       "      <td>672.300000</td>\n",
       "      <td>663.060000</td>\n",
       "      <td>667.850000</td>\n",
       "      <td>3.467530e+05</td>\n",
       "      <td>668.260000</td>\n",
       "      <td>672.300000</td>\n",
       "      <td>663.060000</td>\n",
       "      <td>667.850000</td>\n",
       "      <td>3.467530e+05</td>\n",
       "      <td>0.0</td>\n",
       "      <td>1.0</td>\n",
       "    </tr>\n",
       "    <tr>\n",
       "      <th>25%</th>\n",
       "      <td>841.650000</td>\n",
       "      <td>844.910000</td>\n",
       "      <td>839.320000</td>\n",
       "      <td>842.880000</td>\n",
       "      <td>1.199326e+06</td>\n",
       "      <td>841.650000</td>\n",
       "      <td>844.910000</td>\n",
       "      <td>839.320000</td>\n",
       "      <td>842.880000</td>\n",
       "      <td>1.199326e+06</td>\n",
       "      <td>0.0</td>\n",
       "      <td>1.0</td>\n",
       "    </tr>\n",
       "    <tr>\n",
       "      <th>50%</th>\n",
       "      <td>1086.230000</td>\n",
       "      <td>1097.100000</td>\n",
       "      <td>1073.470000</td>\n",
       "      <td>1086.030000</td>\n",
       "      <td>1.461151e+06</td>\n",
       "      <td>1086.230000</td>\n",
       "      <td>1097.100000</td>\n",
       "      <td>1073.470000</td>\n",
       "      <td>1086.030000</td>\n",
       "      <td>1.461151e+06</td>\n",
       "      <td>0.0</td>\n",
       "      <td>1.0</td>\n",
       "    </tr>\n",
       "    <tr>\n",
       "      <th>75%</th>\n",
       "      <td>1232.410000</td>\n",
       "      <td>1243.090000</td>\n",
       "      <td>1223.080000</td>\n",
       "      <td>1231.350000</td>\n",
       "      <td>1.865139e+06</td>\n",
       "      <td>1232.410000</td>\n",
       "      <td>1243.090000</td>\n",
       "      <td>1223.080000</td>\n",
       "      <td>1231.350000</td>\n",
       "      <td>1.865139e+06</td>\n",
       "      <td>0.0</td>\n",
       "      <td>1.0</td>\n",
       "    </tr>\n",
       "    <tr>\n",
       "      <th>max</th>\n",
       "      <td>1827.990000</td>\n",
       "      <td>1847.200000</td>\n",
       "      <td>1822.650000</td>\n",
       "      <td>1824.520000</td>\n",
       "      <td>6.348126e+06</td>\n",
       "      <td>1827.990000</td>\n",
       "      <td>1847.200000</td>\n",
       "      <td>1822.650000</td>\n",
       "      <td>1824.520000</td>\n",
       "      <td>6.348126e+06</td>\n",
       "      <td>0.0</td>\n",
       "      <td>1.0</td>\n",
       "    </tr>\n",
       "  </tbody>\n",
       "</table>\n",
       "</div>"
      ],
      "text/plain": [
       "             close         high          low         open        volume  \\\n",
       "count  1257.000000  1257.000000  1257.000000  1257.000000  1.257000e+03   \n",
       "mean   1093.039387  1103.023356  1082.226892  1092.351952  1.659480e+06   \n",
       "std     270.201135   273.823642   266.419694   269.676372  7.615813e+05   \n",
       "min     668.260000   672.300000   663.060000   667.850000  3.467530e+05   \n",
       "25%     841.650000   844.910000   839.320000   842.880000  1.199326e+06   \n",
       "50%    1086.230000  1097.100000  1073.470000  1086.030000  1.461151e+06   \n",
       "75%    1232.410000  1243.090000  1223.080000  1231.350000  1.865139e+06   \n",
       "max    1827.990000  1847.200000  1822.650000  1824.520000  6.348126e+06   \n",
       "\n",
       "          adjClose      adjHigh       adjLow      adjOpen     adjVolume  \\\n",
       "count  1257.000000  1257.000000  1257.000000  1257.000000  1.257000e+03   \n",
       "mean   1093.039387  1103.023358  1082.226898  1092.351952  1.659480e+06   \n",
       "std     270.201135   273.823645   266.419704   269.676372  7.615813e+05   \n",
       "min     668.260000   672.300000   663.060000   667.850000  3.467530e+05   \n",
       "25%     841.650000   844.910000   839.320000   842.880000  1.199326e+06   \n",
       "50%    1086.230000  1097.100000  1073.470000  1086.030000  1.461151e+06   \n",
       "75%    1232.410000  1243.090000  1223.080000  1231.350000  1.865139e+06   \n",
       "max    1827.990000  1847.200000  1822.650000  1824.520000  6.348126e+06   \n",
       "\n",
       "       divCash  splitFactor  \n",
       "count   1257.0       1257.0  \n",
       "mean       0.0          1.0  \n",
       "std        0.0          0.0  \n",
       "min        0.0          1.0  \n",
       "25%        0.0          1.0  \n",
       "50%        0.0          1.0  \n",
       "75%        0.0          1.0  \n",
       "max        0.0          1.0  "
      ]
     },
     "execution_count": 38,
     "metadata": {},
     "output_type": "execute_result"
    }
   ],
   "source": [
    "# Get dataframe dimensions\n",
    "print(\"Database dimension     :\",data.shape)\n",
    "print(\"Database size          :\",data.size)\n",
    "\n",
    "# Get info about the dataframe (columns,entries,datatype etc...)\n",
    "data.info()     \n",
    "\n",
    "# Describe the dataframe and get statistics\n",
    "data.describe()"
   ]
  },
  {
   "cell_type": "markdown",
   "metadata": {},
   "source": [
    "# Missing Values"
   ]
  },
  {
   "cell_type": "code",
   "execution_count": 39,
   "metadata": {},
   "outputs": [
    {
     "data": {
      "text/plain": [
       "close          0\n",
       "high           0\n",
       "low            0\n",
       "open           0\n",
       "volume         0\n",
       "adjClose       0\n",
       "adjHigh        0\n",
       "adjLow         0\n",
       "adjOpen        0\n",
       "adjVolume      0\n",
       "divCash        0\n",
       "splitFactor    0\n",
       "dtype: int64"
      ]
     },
     "execution_count": 39,
     "metadata": {},
     "output_type": "execute_result"
    }
   ],
   "source": [
    "# Missing data\n",
    "data.isnull().sum()\n"
   ]
  },
  {
   "cell_type": "code",
   "execution_count": 40,
   "metadata": {},
   "outputs": [
    {
     "name": "stdout",
     "output_type": "stream",
     "text": [
      "Null Count for Columns:\n",
      "\n",
      " 0    12\n",
      "dtype: int64 \n",
      "\n",
      "Null Percentage for Columns:\n",
      "\n",
      " 0.0    12\n",
      "dtype: int64\n"
     ]
    }
   ],
   "source": [
    "# As a part of the Data cleansing we check the data for any missing/ na values\n",
    "# Null count for columns\n",
    "\n",
    "null_count_col = data.isnull().sum().value_counts(ascending=False)\n",
    "\n",
    "# Null percentage for columns\n",
    "\n",
    "null_percent_col = (data.isnull().sum() * 100 / len(data)).value_counts(ascending=False)\n",
    "\n",
    "print(\"Null Count for Columns:\\n\\n\", null_count_col, \"\\n\")\n",
    "print(\"Null Percentage for Columns:\\n\\n\", null_percent_col)"
   ]
  },
  {
   "cell_type": "code",
   "execution_count": 41,
   "metadata": {},
   "outputs": [
    {
     "name": "stdout",
     "output_type": "stream",
     "text": [
      "Null Count for Rows:\n",
      "\n",
      " 0    1257\n",
      "dtype: int64 \n",
      "\n",
      "Null Percentage for Rows:\n",
      "\n",
      " 0.0    1257\n",
      "dtype: int64\n"
     ]
    }
   ],
   "source": [
    "# Null count for rows\n",
    "\n",
    "null_count_row = data.isnull().sum(axis=1).value_counts(ascending=False)\n",
    "\n",
    "# Null percentage for rows\n",
    "\n",
    "null_percent_row = (data.isnull().sum(axis=1) * 100 / len(data)).value_counts(ascending=False)\n",
    "\n",
    "print(\"Null Count for Rows:\\n\\n\", null_count_row, \"\\n\")\n",
    "print(\"Null Percentage for Rows:\\n\\n\", null_percent_row)"
   ]
  },
  {
   "cell_type": "markdown",
   "metadata": {
    "id": "8ATB9RZHwgFd"
   },
   "source": [
    "# Extracting the Closing Price"
   ]
  },
  {
   "cell_type": "code",
   "execution_count": 7,
   "metadata": {
    "id": "QNXfLYJxdvOE"
   },
   "outputs": [],
   "source": [
    "close_price=data['close']"
   ]
  },
  {
   "cell_type": "code",
   "execution_count": 8,
   "metadata": {
    "colab": {
     "base_uri": "https://localhost:8080/"
    },
    "id": "tEEIdniagHP_",
    "outputId": "e435fc01-0aea-4c56-9125-8ea449488953"
   },
   "outputs": [
    {
     "data": {
      "text/plain": [
       "GOOG  2016-01-11 00:00:00+00:00     716.03\n",
       "      2016-01-12 00:00:00+00:00     726.07\n",
       "      2016-01-13 00:00:00+00:00     700.56\n",
       "      2016-01-14 00:00:00+00:00     714.72\n",
       "      2016-01-15 00:00:00+00:00     694.45\n",
       "                                    ...   \n",
       "      2020-12-30 00:00:00+00:00    1739.52\n",
       "      2020-12-31 00:00:00+00:00    1751.88\n",
       "      2021-01-04 00:00:00+00:00    1728.24\n",
       "      2021-01-05 00:00:00+00:00    1740.92\n",
       "      2021-01-06 00:00:00+00:00    1735.29\n",
       "Name: close, Length: 1257, dtype: float64"
      ]
     },
     "execution_count": 8,
     "metadata": {},
     "output_type": "execute_result"
    }
   ],
   "source": [
    "close_price"
   ]
  },
  {
   "cell_type": "code",
   "execution_count": 9,
   "metadata": {
    "id": "8OIKqgPogIRm"
   },
   "outputs": [],
   "source": [
    "close_price=np.array(close_price)"
   ]
  },
  {
   "cell_type": "code",
   "execution_count": 10,
   "metadata": {
    "colab": {
     "base_uri": "https://localhost:8080/"
    },
    "id": "1GMeFBaxgOjp",
    "outputId": "1d7645e8-405f-4f61-9bca-3b776eee21ee"
   },
   "outputs": [
    {
     "data": {
      "text/plain": [
       "array([ 716.03,  726.07,  700.56, ..., 1728.24, 1740.92, 1735.29])"
      ]
     },
     "execution_count": 10,
     "metadata": {},
     "output_type": "execute_result"
    }
   ],
   "source": [
    "close_price"
   ]
  },
  {
   "cell_type": "code",
   "execution_count": 11,
   "metadata": {
    "colab": {
     "base_uri": "https://localhost:8080/"
    },
    "id": "XwXHouUjgb8H",
    "outputId": "053d6b34-b0f9-40f6-97fe-652b3d4db4f3"
   },
   "outputs": [
    {
     "data": {
      "text/plain": [
       "(1257,)"
      ]
     },
     "execution_count": 11,
     "metadata": {},
     "output_type": "execute_result"
    }
   ],
   "source": [
    "close_price.shape"
   ]
  },
  {
   "cell_type": "markdown",
   "metadata": {
    "id": "s6n0Wt90wnG4"
   },
   "source": [
    "# Plotting the closing price"
   ]
  },
  {
   "cell_type": "code",
   "execution_count": 12,
   "metadata": {
    "colab": {
     "base_uri": "https://localhost:8080/",
     "height": 282
    },
    "id": "S3aFGZ9dlhae",
    "outputId": "3c974b33-5efa-499b-b78f-e85c2529a8df"
   },
   "outputs": [
    {
     "data": {
      "text/plain": [
       "[<matplotlib.lines.Line2D at 0x2b30577e010>]"
      ]
     },
     "execution_count": 12,
     "metadata": {},
     "output_type": "execute_result"
    },
    {
     "data": {
      "image/png": "[encoded data removed]",
      "text/plain": [
       "<Figure size 640x480 with 1 Axes>"
      ]
     },
     "metadata": {},
     "output_type": "display_data"
    }
   ],
   "source": [
    "# Plotting the closing stock price.\n",
    "plt.plot(close_price)"
   ]
  },
  {
   "cell_type": "markdown",
   "metadata": {
    "id": "Ch16lR8Cwsir"
   },
   "source": [
    "# Applying MinMax Scaler"
   ]
  },
  {
   "cell_type": "code",
   "execution_count": 14,
   "metadata": {
    "id": "MXwiXeK3IXfh"
   },
   "outputs": [],
   "source": [
    "from sklearn.preprocessing import MinMaxScaler"
   ]
  },
  {
   "cell_type": "markdown",
   "metadata": {},
   "source": [
    "Preprocessing of data for LSTM model"
   ]
  },
  {
   "cell_type": "code",
   "execution_count": 15,
   "metadata": {
    "id": "k-KDDSYjIvwy"
   },
   "outputs": [],
   "source": [
    "minmax=MinMaxScaler()"
   ]
  },
  {
   "cell_type": "code",
   "execution_count": 16,
   "metadata": {
    "id": "jlAKTYdeI0GA"
   },
   "outputs": [],
   "source": [
    "close_price=minmax.fit_transform(close_price.reshape(-1,1))"
   ]
  },
  {
   "cell_type": "code",
   "execution_count": 17,
   "metadata": {
    "colab": {
     "base_uri": "https://localhost:8080/"
    },
    "id": "wtFy1qPCI_rD",
    "outputId": "a9c01f18-9a37-4730-f059-5a5fe1161d96"
   },
   "outputs": [
    {
     "data": {
      "text/plain": [
       "array([668.26])"
      ]
     },
     "execution_count": 17,
     "metadata": {},
     "output_type": "execute_result"
    }
   ],
   "source": [
    "minmax.data_min_"
   ]
  },
  {
   "cell_type": "code",
   "execution_count": 18,
   "metadata": {
    "colab": {
     "base_uri": "https://localhost:8080/"
    },
    "id": "4kL-6IYdJdhu",
    "outputId": "8f40f5ff-f147-46d4-dd96-8ade174a5217"
   },
   "outputs": [
    {
     "data": {
      "text/plain": [
       "array([1827.99])"
      ]
     },
     "execution_count": 18,
     "metadata": {},
     "output_type": "execute_result"
    }
   ],
   "source": [
    "minmax.data_max_"
   ]
  },
  {
   "cell_type": "markdown",
   "metadata": {
    "id": "Pak8Sr7twwyC"
   },
   "source": [
    "# Converting the data into time stamps of 100 days"
   ]
  },
  {
   "cell_type": "code",
   "execution_count": 19,
   "metadata": {
    "id": "BUYOL7E0gPOl"
   },
   "outputs": [],
   "source": [
    "sample=[]\n",
    "data_stamps=[]\n",
    "price=[]\n",
    "\n",
    "\n",
    "for i in range(1157):\n",
    "  sample=[]\n",
    "  for j in range(i,100+i):\n",
    "    sample.append(close_price[j])\n",
    "  price.append(close_price[100+i])\n",
    "  data_stamps.append(sample)"
   ]
  },
  {
   "cell_type": "code",
   "execution_count": 20,
   "metadata": {
    "id": "4abBKl7pkUu7"
   },
   "outputs": [],
   "source": [
    "data_stamps=np.array(data_stamps)"
   ]
  },
  {
   "cell_type": "code",
   "execution_count": 21,
   "metadata": {
    "colab": {
     "base_uri": "https://localhost:8080/"
    },
    "id": "RWXctcFumoPX",
    "outputId": "0a7c7de2-dbb1-4d71-cef0-4b8b9269d55c"
   },
   "outputs": [
    {
     "data": {
      "text/plain": [
       "(1157, 100, 1)"
      ]
     },
     "execution_count": 21,
     "metadata": {},
     "output_type": "execute_result"
    }
   ],
   "source": [
    "data_stamps.shape"
   ]
  },
  {
   "cell_type": "code",
   "execution_count": 22,
   "metadata": {
    "id": "1rII_5zSsoR5"
   },
   "outputs": [],
   "source": [
    "price=np.array(price)"
   ]
  },
  {
   "cell_type": "code",
   "execution_count": 23,
   "metadata": {
    "colab": {
     "base_uri": "https://localhost:8080/"
    },
    "id": "MzosglwIssdE",
    "outputId": "a13b4eff-0dc8-4041-8c02-43d4b68d2fdd"
   },
   "outputs": [
    {
     "data": {
      "text/plain": [
       "(1157, 1)"
      ]
     },
     "execution_count": 23,
     "metadata": {},
     "output_type": "execute_result"
    }
   ],
   "source": [
    "price.shape"
   ]
  },
  {
   "cell_type": "markdown",
   "metadata": {
    "id": "V3LLGZViw4EW"
   },
   "source": [
    "# Splitting the datastamps into training and testing samples"
   ]
  },
  {
   "cell_type": "code",
   "execution_count": 24,
   "metadata": {
    "id": "o2JoZMuSpUBD"
   },
   "outputs": [],
   "source": [
    "# Determining X_test and y_test using datastamps set.\n",
    "x_train=data_stamps[:int(0.7*len(list(data_stamps)))]\n",
    "y_train=price[:int(0.7*len(list(data_stamps)))]\n",
    "\n",
    "x_test=data_stamps[int(0.7*len(list(data_stamps))):]\n",
    "y_test=price[int(0.7*len(list(data_stamps))):]\n"
   ]
  },
  {
   "cell_type": "markdown",
   "metadata": {
    "id": "npxZ_Yiew-0n"
   },
   "source": [
    "# Defining a nueral network"
   ]
  },
  {
   "cell_type": "code",
   "execution_count": 25,
   "metadata": {
    "id": "Se7CghEiosgv"
   },
   "outputs": [],
   "source": [
    "# Defining the LSTM model.\n",
    "model=Sequential()\n",
    "model.add(Bidirectional(LSTM(100,return_sequences=True),input_shape=(100,1)))\n",
    "model.add(Bidirectional(LSTM(100)))\n",
    "model.add(Dense(64,activation='relu'))\n",
    "model.add(Dense(1,activation='linear'))\n"
   ]
  },
  {
   "cell_type": "code",
   "execution_count": 26,
   "metadata": {
    "colab": {
     "base_uri": "https://localhost:8080/"
    },
    "id": "8bSxERhPqbuO",
    "outputId": "7fade20c-e167-4beb-b73e-acbab0b81de2"
   },
   "outputs": [
    {
     "name": "stdout",
     "output_type": "stream",
     "text": [
      "Model: \"sequential\"\n",
      "_________________________________________________________________\n",
      " Layer (type)                Output Shape              Param #   \n",
      "=================================================================\n",
      " bidirectional (Bidirectiona  (None, 100, 200)         81600     \n",
      " l)                                                              \n",
      "                                                                 \n",
      " bidirectional_1 (Bidirectio  (None, 200)              240800    \n",
      " nal)                                                            \n",
      "                                                                 \n",
      " dense (Dense)               (None, 64)                12864     \n",
      "                                                                 \n",
      " dense_1 (Dense)             (None, 1)                 65        \n",
      "                                                                 \n",
      "=================================================================\n",
      "Total params: 335,329\n",
      "Trainable params: 335,329\n",
      "Non-trainable params: 0\n",
      "_________________________________________________________________\n"
     ]
    }
   ],
   "source": [
    "model.summary()"
   ]
  },
  {
   "cell_type": "code",
   "execution_count": 27,
   "metadata": {
    "id": "opq6AdbPoqvk"
   },
   "outputs": [],
   "source": [
    "model.compile(optimizer='Adam',loss='mse')"
   ]
  },
  {
   "cell_type": "markdown",
   "metadata": {
    "id": "ffEAVYk2xEC9"
   },
   "source": [
    "# Training a model"
   ]
  },
  {
   "cell_type": "code",
   "execution_count": 28,
   "metadata": {
    "colab": {
     "base_uri": "https://localhost:8080/"
    },
    "id": "CpolnA2kr5EH",
    "outputId": "b87abedc-c9af-4362-9338-855c63d51852"
   },
   "outputs": [
    {
     "name": "stdout",
     "output_type": "stream",
     "text": [
      "Epoch 1/50\n",
      "26/26 [==============================] - 40s 511ms/step - loss: 0.0095\n",
      "Epoch 2/50\n",
      "26/26 [==============================] - 12s 467ms/step - loss: 8.6694e-04\n",
      "Epoch 3/50\n",
      "26/26 [==============================] - 12s 465ms/step - loss: 6.3394e-04\n",
      "Epoch 4/50\n",
      "26/26 [==============================] - 13s 502ms/step - loss: 5.7604e-04\n",
      "Epoch 5/50\n",
      "26/26 [==============================] - 13s 487ms/step - loss: 5.3494e-04\n",
      "Epoch 6/50\n",
      "26/26 [==============================] - 12s 471ms/step - loss: 4.9273e-04\n",
      "Epoch 7/50\n",
      "26/26 [==============================] - 12s 479ms/step - loss: 4.9148e-04\n",
      "Epoch 8/50\n",
      "26/26 [==============================] - 13s 506ms/step - loss: 5.2153e-04\n",
      "Epoch 9/50\n",
      "26/26 [==============================] - 12s 478ms/step - loss: 4.7916e-04\n",
      "Epoch 10/50\n",
      "26/26 [==============================] - 13s 505ms/step - loss: 4.6085e-04\n",
      "Epoch 11/50\n",
      "26/26 [==============================] - 14s 555ms/step - loss: 4.4891e-04\n",
      "Epoch 12/50\n",
      "26/26 [==============================] - 13s 504ms/step - loss: 4.7997e-04\n",
      "Epoch 13/50\n",
      "26/26 [==============================] - 14s 557ms/step - loss: 4.4384e-04\n",
      "Epoch 14/50\n",
      "26/26 [==============================] - 14s 526ms/step - loss: 4.0035e-04\n",
      "Epoch 15/50\n",
      "26/26 [==============================] - 14s 527ms/step - loss: 3.8998e-04\n",
      "Epoch 16/50\n",
      "26/26 [==============================] - 14s 539ms/step - loss: 4.6115e-04\n",
      "Epoch 17/50\n",
      "26/26 [==============================] - 13s 501ms/step - loss: 4.4744e-04\n",
      "Epoch 18/50\n",
      "26/26 [==============================] - 13s 503ms/step - loss: 7.0738e-04\n",
      "Epoch 19/50\n",
      "26/26 [==============================] - 13s 484ms/step - loss: 3.7742e-04\n",
      "Epoch 20/50\n",
      "26/26 [==============================] - 14s 534ms/step - loss: 3.8158e-04\n",
      "Epoch 21/50\n",
      "26/26 [==============================] - 14s 526ms/step - loss: 3.5110e-04\n",
      "Epoch 22/50\n",
      "26/26 [==============================] - 13s 515ms/step - loss: 3.5408e-04\n",
      "Epoch 23/50\n",
      "26/26 [==============================] - 14s 538ms/step - loss: 3.5270e-04\n",
      "Epoch 24/50\n",
      "26/26 [==============================] - 14s 545ms/step - loss: 3.3326e-04\n",
      "Epoch 25/50\n",
      "26/26 [==============================] - 14s 534ms/step - loss: 3.5327e-04\n",
      "Epoch 26/50\n",
      "26/26 [==============================] - 14s 521ms/step - loss: 3.4109e-04\n",
      "Epoch 27/50\n",
      "26/26 [==============================] - 14s 527ms/step - loss: 3.1939e-04\n",
      "Epoch 28/50\n",
      "26/26 [==============================] - 15s 577ms/step - loss: 4.2705e-04\n",
      "Epoch 29/50\n",
      "26/26 [==============================] - 16s 599ms/step - loss: 3.5368e-04\n",
      "Epoch 30/50\n",
      "26/26 [==============================] - 15s 564ms/step - loss: 3.0611e-04\n",
      "Epoch 31/50\n",
      "26/26 [==============================] - 14s 550ms/step - loss: 2.7950e-04\n",
      "Epoch 32/50\n",
      "26/26 [==============================] - 14s 537ms/step - loss: 2.8606e-04\n",
      "Epoch 33/50\n",
      "26/26 [==============================] - 13s 506ms/step - loss: 3.1048e-04\n",
      "Epoch 34/50\n",
      "26/26 [==============================] - 14s 527ms/step - loss: 2.9544e-04\n",
      "Epoch 35/50\n",
      "26/26 [==============================] - 14s 553ms/step - loss: 3.1320e-04\n",
      "Epoch 36/50\n",
      "26/26 [==============================] - 13s 515ms/step - loss: 2.7496e-04\n",
      "Epoch 37/50\n",
      "26/26 [==============================] - 14s 546ms/step - loss: 2.6916e-04\n",
      "Epoch 38/50\n",
      "26/26 [==============================] - 12s 479ms/step - loss: 2.6794e-04\n",
      "Epoch 39/50\n",
      "26/26 [==============================] - 13s 515ms/step - loss: 2.7162e-04\n",
      "Epoch 40/50\n",
      "26/26 [==============================] - 13s 501ms/step - loss: 2.7565e-04\n",
      "Epoch 41/50\n",
      "26/26 [==============================] - 13s 498ms/step - loss: 2.8618e-04\n",
      "Epoch 42/50\n",
      "26/26 [==============================] - 13s 489ms/step - loss: 2.5145e-04\n",
      "Epoch 43/50\n",
      "26/26 [==============================] - 14s 551ms/step - loss: 3.0794e-04\n",
      "Epoch 44/50\n",
      "26/26 [==============================] - 14s 547ms/step - loss: 2.8691e-04\n",
      "Epoch 45/50\n",
      "26/26 [==============================] - 13s 492ms/step - loss: 2.5127e-04\n",
      "Epoch 46/50\n",
      "26/26 [==============================] - 12s 476ms/step - loss: 2.7413e-04\n",
      "Epoch 47/50\n",
      "26/26 [==============================] - 14s 534ms/step - loss: 2.2869e-04\n",
      "Epoch 48/50\n",
      "26/26 [==============================] - 15s 563ms/step - loss: 2.4288e-04\n",
      "Epoch 49/50\n",
      "26/26 [==============================] - 15s 567ms/step - loss: 3.3165e-04\n",
      "Epoch 50/50\n",
      "26/26 [==============================] - 15s 569ms/step - loss: 2.5085e-04\n"
     ]
    },
    {
     "data": {
      "text/plain": [
       "<keras.callbacks.History at 0x2b309ed5550>"
      ]
     },
     "execution_count": 28,
     "metadata": {},
     "output_type": "execute_result"
    }
   ],
   "source": [
    "# Training the LSTM model for the given dataset.\n",
    "model.fit(x=x_train,y=y_train,epochs=50)"
   ]
  },
  {
   "cell_type": "code",
   "execution_count": 29,
   "metadata": {
    "colab": {
     "base_uri": "https://localhost:8080/"
    },
    "id": "mJJERmYvqokX",
    "outputId": "6727394d-c429-498f-e0a1-6842e45aa5d2"
   },
   "outputs": [
    {
     "name": "stdout",
     "output_type": "stream",
     "text": [
      "11/11 [==============================] - 77s 171ms/step - loss: 0.0011\n"
     ]
    },
    {
     "data": {
      "text/plain": [
       "0.001072603976354003"
      ]
     },
     "execution_count": 29,
     "metadata": {},
     "output_type": "execute_result"
    }
   ],
   "source": [
    "model.evaluate(x_test,y_test)"
   ]
  },
  {
   "cell_type": "markdown",
   "metadata": {
    "id": "BTIhVTfvxTTX"
   },
   "source": [
    "# Predicting the test data"
   ]
  },
  {
   "cell_type": "code",
   "execution_count": 30,
   "metadata": {
    "id": "QGgw3vCPqrz9"
   },
   "outputs": [
    {
     "name": "stdout",
     "output_type": "stream",
     "text": [
      "11/11 [==============================] - 15s 173ms/step\n"
     ]
    }
   ],
   "source": [
    "# Predicting the dataset.\n",
    "y_pred=model.predict(x_test)"
   ]
  },
  {
   "cell_type": "code",
   "execution_count": 31,
   "metadata": {
    "colab": {
     "base_uri": "https://localhost:8080/"
    },
    "id": "wTvNqk2Sq0hP",
    "outputId": "4008507d-ec34-48f2-c910-ce8683843539"
   },
   "outputs": [
    {
     "data": {
      "text/plain": [
       "array([[0.4516818 ],\n",
       "       [0.45468467],\n",
       "       [0.455443  ],\n",
       "       [0.43945813],\n",
       "       [0.43697643],\n",
       "       [0.4362237 ],\n",
       "       [0.43816707],\n",
       "       [0.44934797],\n",
       "       [0.45455933],\n",
       "       [0.4488907 ],\n",
       "       [0.4502175 ],\n",
       "       [0.4637278 ],\n",
       "       [0.46919483],\n",
       "       [0.47127497],\n",
       "       [0.4721427 ],\n",
       "       [0.4778319 ],\n",
       "       [0.48669294],\n",
       "       [0.49359107],\n",
       "       [0.4930847 ],\n",
       "       [0.49074137],\n",
       "       [0.49027193],\n",
       "       [0.49300635],\n",
       "       [0.4911196 ],\n",
       "       [0.49178964],\n",
       "       [0.48591548],\n",
       "       [0.49447936],\n",
       "       [0.49814922],\n",
       "       [0.4932658 ],\n",
       "       [0.48742503],\n",
       "       [0.47823173],\n",
       "       [0.46133208],\n",
       "       [0.45680004],\n",
       "       [0.4645589 ],\n",
       "       [0.4699474 ],\n",
       "       [0.4653784 ],\n",
       "       [0.46753865],\n",
       "       [0.4711672 ],\n",
       "       [0.475694  ],\n",
       "       [0.4782953 ],\n",
       "       [0.48990375],\n",
       "       [0.49621773],\n",
       "       [0.5025876 ],\n",
       "       [0.50176585],\n",
       "       [0.50042707],\n",
       "       [0.49783882],\n",
       "       [0.5032546 ],\n",
       "       [0.50765526],\n",
       "       [0.5119777 ],\n",
       "       [0.5249163 ],\n",
       "       [0.52030915],\n",
       "       [0.51586264],\n",
       "       [0.5124295 ],\n",
       "       [0.5164995 ],\n",
       "       [0.5270003 ],\n",
       "       [0.5334631 ],\n",
       "       [0.53628886],\n",
       "       [0.544255  ],\n",
       "       [0.5491072 ],\n",
       "       [0.5456995 ],\n",
       "       [0.5426407 ],\n",
       "       [0.54045707],\n",
       "       [0.54537964],\n",
       "       [0.5588745 ],\n",
       "       [0.56072044],\n",
       "       [0.5584199 ],\n",
       "       [0.55094516],\n",
       "       [0.54571694],\n",
       "       [0.5406972 ],\n",
       "       [0.54361445],\n",
       "       [0.5492593 ],\n",
       "       [0.5526825 ],\n",
       "       [0.55099046],\n",
       "       [0.54312783],\n",
       "       [0.5408461 ],\n",
       "       [0.55119395],\n",
       "       [0.56134665],\n",
       "       [0.57248497],\n",
       "       [0.5793693 ],\n",
       "       [0.58244157],\n",
       "       [0.58306676],\n",
       "       [0.5847988 ],\n",
       "       [0.5841203 ],\n",
       "       [0.58888006],\n",
       "       [0.5889098 ],\n",
       "       [0.5874777 ],\n",
       "       [0.58799314],\n",
       "       [0.5855937 ],\n",
       "       [0.5840479 ],\n",
       "       [0.58123016],\n",
       "       [0.587232  ],\n",
       "       [0.58732635],\n",
       "       [0.58014554],\n",
       "       [0.5761975 ],\n",
       "       [0.5875896 ],\n",
       "       [0.5917053 ],\n",
       "       [0.60824394],\n",
       "       [0.6164554 ],\n",
       "       [0.6240174 ],\n",
       "       [0.6331184 ],\n",
       "       [0.640803  ],\n",
       "       [0.6476764 ],\n",
       "       [0.6465596 ],\n",
       "       [0.6484839 ],\n",
       "       [0.6547955 ],\n",
       "       [0.67089826],\n",
       "       [0.68153876],\n",
       "       [0.6869193 ],\n",
       "       [0.6888646 ],\n",
       "       [0.68040216],\n",
       "       [0.6610203 ],\n",
       "       [0.65914667],\n",
       "       [0.6633636 ],\n",
       "       [0.66640735],\n",
       "       [0.6593232 ],\n",
       "       [0.67831427],\n",
       "       [0.6722655 ],\n",
       "       [0.66801786],\n",
       "       [0.67757475],\n",
       "       [0.68427145],\n",
       "       [0.69997716],\n",
       "       [0.7073162 ],\n",
       "       [0.7131685 ],\n",
       "       [0.71251625],\n",
       "       [0.7129592 ],\n",
       "       [0.71174216],\n",
       "       [0.71357703],\n",
       "       [0.7109007 ],\n",
       "       [0.6952237 ],\n",
       "       [0.6592741 ],\n",
       "       [0.6265795 ],\n",
       "       [0.6147028 ],\n",
       "       [0.5807306 ],\n",
       "       [0.57463336],\n",
       "       [0.59760284],\n",
       "       [0.59315634],\n",
       "       [0.6095514 ],\n",
       "       [0.5886361 ],\n",
       "       [0.565664  ],\n",
       "       [0.5168196 ],\n",
       "       [0.5178143 ],\n",
       "       [0.49488732],\n",
       "       [0.44129795],\n",
       "       [0.4557407 ],\n",
       "       [0.41258353],\n",
       "       [0.40275258],\n",
       "       [0.39043325],\n",
       "       [0.39276376],\n",
       "       [0.37814635],\n",
       "       [0.36319953],\n",
       "       [0.3867619 ],\n",
       "       [0.38945532],\n",
       "       [0.41464633],\n",
       "       [0.40763873],\n",
       "       [0.4156223 ],\n",
       "       [0.4258369 ],\n",
       "       [0.40673274],\n",
       "       [0.39970964],\n",
       "       [0.38622397],\n",
       "       [0.4156966 ],\n",
       "       [0.4353518 ],\n",
       "       [0.4563284 ],\n",
       "       [0.4673893 ],\n",
       "       [0.47388983],\n",
       "       [0.4974506 ],\n",
       "       [0.50702107],\n",
       "       [0.5105632 ],\n",
       "       [0.51911926],\n",
       "       [0.51583964],\n",
       "       [0.49144617],\n",
       "       [0.4970038 ],\n",
       "       [0.50817794],\n",
       "       [0.5174    ],\n",
       "       [0.52134824],\n",
       "       [0.5048421 ],\n",
       "       [0.54081035],\n",
       "       [0.566291  ],\n",
       "       [0.56685996],\n",
       "       [0.5664204 ],\n",
       "       [0.5746468 ],\n",
       "       [0.5767079 ],\n",
       "       [0.58784884],\n",
       "       [0.6005173 ],\n",
       "       [0.6132597 ],\n",
       "       [0.6068429 ],\n",
       "       [0.5898006 ],\n",
       "       [0.58274025],\n",
       "       [0.58763593],\n",
       "       [0.5969227 ],\n",
       "       [0.59842557],\n",
       "       [0.6137676 ],\n",
       "       [0.62065476],\n",
       "       [0.6266268 ],\n",
       "       [0.6315807 ],\n",
       "       [0.6336395 ],\n",
       "       [0.63326204],\n",
       "       [0.6378817 ],\n",
       "       [0.64155793],\n",
       "       [0.64652526],\n",
       "       [0.6476187 ],\n",
       "       [0.63690054],\n",
       "       [0.64213884],\n",
       "       [0.64945567],\n",
       "       [0.65789443],\n",
       "       [0.66634417],\n",
       "       [0.64247596],\n",
       "       [0.63206196],\n",
       "       [0.6305999 ],\n",
       "       [0.6420256 ],\n",
       "       [0.6537988 ],\n",
       "       [0.653658  ],\n",
       "       [0.6508828 ],\n",
       "       [0.6580456 ],\n",
       "       [0.6681131 ],\n",
       "       [0.6591597 ],\n",
       "       [0.6579555 ],\n",
       "       [0.6219526 ],\n",
       "       [0.6179571 ],\n",
       "       [0.62761796],\n",
       "       [0.6467237 ],\n",
       "       [0.67044246],\n",
       "       [0.696605  ],\n",
       "       [0.703767  ],\n",
       "       [0.708688  ],\n",
       "       [0.71539843],\n",
       "       [0.73128843],\n",
       "       [0.7250489 ],\n",
       "       [0.7240033 ],\n",
       "       [0.72025627],\n",
       "       [0.7205427 ],\n",
       "       [0.7201836 ],\n",
       "       [0.7426288 ],\n",
       "       [0.75148016],\n",
       "       [0.75797117],\n",
       "       [0.73506385],\n",
       "       [0.71792066],\n",
       "       [0.7163876 ],\n",
       "       [0.70391583],\n",
       "       [0.7069249 ],\n",
       "       [0.713451  ],\n",
       "       [0.6958036 ],\n",
       "       [0.6816421 ],\n",
       "       [0.67062557],\n",
       "       [0.6696233 ],\n",
       "       [0.6826396 ],\n",
       "       [0.6883269 ],\n",
       "       [0.69145703],\n",
       "       [0.6854864 ],\n",
       "       [0.6925945 ],\n",
       "       [0.7015598 ],\n",
       "       [0.70119226],\n",
       "       [0.70439595],\n",
       "       [0.7229699 ],\n",
       "       [0.72860205],\n",
       "       [0.7444705 ],\n",
       "       [0.75198543],\n",
       "       [0.7579489 ],\n",
       "       [0.768612  ],\n",
       "       [0.7928648 ],\n",
       "       [0.7966051 ],\n",
       "       [0.8004608 ],\n",
       "       [0.79660845],\n",
       "       [0.80550647],\n",
       "       [0.8404392 ],\n",
       "       [0.82034016],\n",
       "       [0.78460133],\n",
       "       [0.74030983],\n",
       "       [0.731465  ],\n",
       "       [0.72245455],\n",
       "       [0.7172846 ],\n",
       "       [0.7171696 ],\n",
       "       [0.7291281 ],\n",
       "       [0.7273658 ],\n",
       "       [0.714152  ],\n",
       "       [0.69008785],\n",
       "       [0.66462994],\n",
       "       [0.66784126],\n",
       "       [0.6506463 ],\n",
       "       [0.6477636 ],\n",
       "       [0.65523607],\n",
       "       [0.66896176],\n",
       "       [0.6782621 ],\n",
       "       [0.6817346 ],\n",
       "       [0.6908406 ],\n",
       "       [0.6800809 ],\n",
       "       [0.68474776],\n",
       "       [0.672703  ],\n",
       "       [0.6688874 ],\n",
       "       [0.67927325],\n",
       "       [0.6992458 ],\n",
       "       [0.7346661 ],\n",
       "       [0.7534332 ],\n",
       "       [0.7577131 ],\n",
       "       [0.75186443],\n",
       "       [0.7526281 ],\n",
       "       [0.7352997 ],\n",
       "       [0.7358008 ],\n",
       "       [0.75501317],\n",
       "       [0.7766901 ],\n",
       "       [0.7991741 ],\n",
       "       [0.78556   ],\n",
       "       [0.78093386],\n",
       "       [0.73843765],\n",
       "       [0.73868096],\n",
       "       [0.7674352 ],\n",
       "       [0.787873  ],\n",
       "       [0.80840254],\n",
       "       [0.861339  ],\n",
       "       [0.89153373],\n",
       "       [0.89922994],\n",
       "       [0.8968815 ],\n",
       "       [0.8815316 ],\n",
       "       [0.8782882 ],\n",
       "       [0.877497  ],\n",
       "       [0.89201295],\n",
       "       [0.9039912 ],\n",
       "       [0.9055958 ],\n",
       "       [0.8950215 ],\n",
       "       [0.8975759 ],\n",
       "       [0.89030445],\n",
       "       [0.88408047],\n",
       "       [0.8980682 ],\n",
       "       [0.90794396],\n",
       "       [0.92257583],\n",
       "       [0.91352886],\n",
       "       [0.9240807 ],\n",
       "       [0.94300276],\n",
       "       [0.95091355],\n",
       "       [0.9527763 ],\n",
       "       [0.9473232 ],\n",
       "       [0.94249237],\n",
       "       [0.9237912 ],\n",
       "       [0.91059756],\n",
       "       [0.90894735],\n",
       "       [0.9002724 ],\n",
       "       [0.9004903 ],\n",
       "       [0.8995325 ],\n",
       "       [0.89226574],\n",
       "       [0.8806768 ],\n",
       "       [0.87911224],\n",
       "       [0.87223566],\n",
       "       [0.87350005],\n",
       "       [0.8780252 ],\n",
       "       [0.8978691 ],\n",
       "       [0.8998499 ],\n",
       "       [0.8900553 ],\n",
       "       [0.889691  ],\n",
       "       [0.87936884],\n",
       "       [0.8809011 ]], dtype=float32)"
      ]
     },
     "execution_count": 31,
     "metadata": {},
     "output_type": "execute_result"
    }
   ],
   "source": [
    "y_pred"
   ]
  },
  {
   "cell_type": "markdown",
   "metadata": {
    "id": "h29dCFyNxaGv"
   },
   "source": [
    "# Plotting closing prices of testing vs predicted data"
   ]
  },
  {
   "cell_type": "code",
   "execution_count": 32,
   "metadata": {
    "colab": {
     "base_uri": "https://localhost:8080/",
     "height": 282
    },
    "id": "XrROPgSsq1yd",
    "outputId": "97eeb308-2482-4da1-b969-58681423e8ae"
   },
   "outputs": [
    {
     "data": {
      "text/plain": [
       "[<matplotlib.lines.Line2D at 0x7f241e4d4cf8>]"
      ]
     },
     "execution_count": 32,
     "metadata": {
      "tags": []
     },
     "output_type": "execute_result"
    },
    {
     "data": {
      "image/png": "[encoded data removed]",
      "text/plain": [
       "<Figure size 432x288 with 1 Axes>"
      ]
     },
     "metadata": {
      "needs_background": "light",
      "tags": []
     },
     "output_type": "display_data"
    }
   ],
   "source": [
    "# Plotting the y_prediction data.\n",
    "plt.plot(y_pred)"
   ]
  },
  {
   "cell_type": "code",
   "execution_count": 32,
   "metadata": {
    "colab": {
     "base_uri": "https://localhost:8080/",
     "height": 282
    },
    "id": "PEQn6XdGq96U",
    "outputId": "47683f3a-ad10-4ac9-f44e-cee02db70e7b"
   },
   "outputs": [
    {
     "data": {
      "text/plain": [
       "[<matplotlib.lines.Line2D at 0x2b309d46f90>]"
      ]
     },
     "execution_count": 32,
     "metadata": {},
     "output_type": "execute_result"
    },
    {
     "data": {
      "image/png": "[encoded data removed]",
      "text/plain": [
       "<Figure size 640x480 with 1 Axes>"
      ]
     },
     "metadata": {},
     "output_type": "display_data"
    }
   ],
   "source": [
    "# Plotting the y_test prediction data.\n",
    "plt.plot(y_test)"
   ]
  },
  {
   "cell_type": "markdown",
   "metadata": {
    "id": "8owfMUsPrCO1"
   },
   "source": [
    "# Author(s)\n"
   ]
  },
  {
   "cell_type": "markdown",
   "metadata": {
    "id": "uPnWoVrvs-iR"
   },
   "source": [
    "Vincent Mukomba"
   ]
  }
 ],
 "metadata": {
  "accelerator": "GPU",
  "colab": {
   "name": "Model Notebook.ipynb",
   "provenance": []
  },
  "kernelspec": {
   "display_name": "Python 3 (ipykernel)",
   "language": "python",
   "name": "python3"
  },
  "language_info": {
   "codemirror_mode": {
    "name": "ipython",
    "version": 3
   },
   "file_extension": ".py",
   "mimetype": "text/x-python",
   "name": "python",
   "nbconvert_exporter": "python",
   "pygments_lexer": "ipython3",
   "version": "3.11.4"
  }
 },
 "nbformat": 4,
 "nbformat_minor": 1
}
